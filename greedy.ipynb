{
 "cells": [
  {
   "cell_type": "code",
   "execution_count": 1,
   "metadata": {},
   "outputs": [],
   "source": [
    "import matplotlib as plt\n",
    "import numpy as np"
   ]
  },
  {
   "cell_type": "code",
   "execution_count": 37,
   "metadata": {},
   "outputs": [],
   "source": [
    "# Class for Task\n",
    "class Task():\n",
    "    def __init__(self, num):\n",
    "        self.initTime = np.random.randint(0, 101)\n",
    "        self.duration = np.random.randint(0, 30)\n",
    "        self.endTime = self.initTime + self.duration\n",
    "        self.num = num\n",
    "        \n",
    "        print(self.num+1, self.initTime, self.duration, self.endTime)"
   ]
  },
  {
   "cell_type": "code",
   "execution_count": 38,
   "metadata": {},
   "outputs": [
    {
     "name": "stdout",
     "output_type": "stream",
     "text": [
      "1 41 20 61\n",
      "2 73 24 97\n",
      "3 90 22 112\n",
      "4 40 24 64\n",
      "5 53 12 65\n",
      "6 87 8 95\n",
      "7 92 13 105\n",
      "8 44 9 53\n",
      "9 34 12 46\n",
      "10 61 21 82\n",
      "11 84 8 92\n",
      "12 84 0 84\n",
      "13 36 17 53\n",
      "14 63 2 65\n",
      "15 62 1 63\n",
      "16 38 3 41\n",
      "17 88 12 100\n",
      "18 65 20 85\n",
      "19 70 15 85\n",
      "20 10 28 38\n",
      "21 82 6 88\n",
      "22 79 26 105\n",
      "23 23 18 41\n",
      "24 56 6 62\n",
      "25 49 14 63\n",
      "26 27 5 32\n",
      "27 6 20 26\n",
      "28 83 24 107\n",
      "29 3 25 28\n",
      "30 40 29 69\n"
     ]
    }
   ],
   "source": [
    "# Number of tasks for example\n",
    "numTasks = 30\n",
    "# Empty array of tasks\n",
    "tasks = []\n",
    "\n",
    "for i in range(numTasks):\n",
    "    tasks.append(Task(i))"
   ]
  },
  {
   "cell_type": "markdown",
   "metadata": {},
   "source": [
    "# Greedy Algorithm \n",
    "\n",
    "## By initial task time\n",
    "\n"
   ]
  },
  {
   "cell_type": "code",
   "execution_count": 41,
   "metadata": {},
   "outputs": [
    {
     "name": "stdout",
     "output_type": "stream",
     "text": [
      "Sorted array is\n",
      "29  -  3\n",
      "27  -  6\n",
      "20  -  10\n",
      "23  -  23\n",
      "26  -  27\n",
      "9  -  34\n",
      "13  -  36\n",
      "16  -  38\n",
      "30  -  40\n",
      "4  -  40\n",
      "1  -  41\n",
      "8  -  44\n",
      "25  -  49\n",
      "5  -  53\n",
      "24  -  56\n",
      "10  -  61\n",
      "15  -  62\n",
      "14  -  63\n",
      "18  -  65\n",
      "19  -  70\n",
      "2  -  73\n",
      "22  -  79\n",
      "21  -  82\n",
      "28  -  83\n",
      "12  -  84\n",
      "11  -  84\n",
      "6  -  87\n",
      "17  -  88\n",
      "3  -  90\n",
      "7  -  92\n"
     ]
    }
   ],
   "source": [
    "# To heapify subtree rooted at index i. \n",
    "# n is size of heap \n",
    "def heapify(arr, n, i): \n",
    "    largest = i  # Initialize largest as root \n",
    "    l = 2 * i + 1     # left = 2*i + 1 \n",
    "    r = 2 * i + 2     # right = 2*i + 2 \n",
    "  \n",
    "    # See if left child of root exists and is \n",
    "    # greater than root \n",
    "    if l < n and arr[i].initTime < arr[l].initTime: \n",
    "        largest = l \n",
    "  \n",
    "    # See if right child of root exists and is \n",
    "    # greater than root \n",
    "    if r < n and arr[largest].initTime < arr[r].initTime: \n",
    "        largest = r \n",
    "  \n",
    "    # Change root, if needed \n",
    "    if largest != i: \n",
    "        # swap\n",
    "        temp = arr[i]\n",
    "        arr[i] = arr[largest]\n",
    "        arr[largest] = temp\n",
    "  \n",
    "        # Heapify the root. \n",
    "        heapify(arr, n, largest) \n",
    "  \n",
    "# The main function to sort an array of given size \n",
    "def heapSort(arr): \n",
    "    n = len(arr) \n",
    "  \n",
    "    # Build a maxheap. \n",
    "    for i in range(n, -1, -1): \n",
    "        heapify(arr, n, i) \n",
    "  \n",
    "    # One by one extract elements \n",
    "    for i in range(n-1, 0, -1): \n",
    "        temp = arr[0]\n",
    "        arr[0] = arr[i]\n",
    "        arr[i] = temp\n",
    "        heapify(arr, i, 0) \n",
    "  \n",
    "# Driver code to test above \n",
    "heapSort(tasks) \n",
    "n = len(tasks) \n",
    "print (\"Sorted array is\") \n",
    "for i in range(n): \n",
    "    print (\"%d\" %(tasks[i].num+1),\" - \",\"%d\" %tasks[i].initTime)"
   ]
  },
  {
   "cell_type": "code",
   "execution_count": 49,
   "metadata": {},
   "outputs": [],
   "source": [
    "def greedByInitTime(tasks):\n",
    "    taskList = []\n",
    "    taskList.append(tasks[0])\n",
    "    for i in range(1, len(tasks), 1):\n",
    "        if tasks[i].initTime >= taskList[-1].endTime:\n",
    "            taskList.append(tasks[i])\n",
    "    \n",
    "    print(\"The number of tasks compatible by init time:\")\n",
    "    print(len(taskList))"
   ]
  },
  {
   "cell_type": "code",
   "execution_count": 50,
   "metadata": {},
   "outputs": [
    {
     "name": "stdout",
     "output_type": "stream",
     "text": [
      "The number of tasks compatible by init time:\n",
      "2\n"
     ]
    }
   ],
   "source": [
    "greedByInitTime(tasks)"
   ]
  },
  {
   "cell_type": "markdown",
   "metadata": {},
   "source": [
    "## By Finish Time"
   ]
  },
  {
   "cell_type": "code",
   "execution_count": 43,
   "metadata": {},
   "outputs": [
    {
     "name": "stdout",
     "output_type": "stream",
     "text": [
      "Sorted array is\n",
      "27  -  26\n",
      "29  -  28\n",
      "26  -  32\n",
      "20  -  38\n",
      "16  -  41\n",
      "23  -  41\n",
      "9  -  46\n",
      "13  -  53\n",
      "8  -  53\n",
      "1  -  61\n",
      "24  -  62\n",
      "15  -  63\n",
      "25  -  63\n",
      "4  -  64\n",
      "5  -  65\n",
      "14  -  65\n",
      "30  -  69\n",
      "10  -  82\n",
      "12  -  84\n",
      "18  -  85\n",
      "19  -  85\n",
      "21  -  88\n",
      "11  -  92\n",
      "6  -  95\n",
      "2  -  97\n",
      "17  -  100\n",
      "22  -  105\n",
      "7  -  105\n",
      "28  -  107\n",
      "3  -  112\n"
     ]
    }
   ],
   "source": [
    "# To heapify subtree rooted at index i. \n",
    "# n is size of heap \n",
    "def heapify(arr, n, i): \n",
    "    largest = i  # Initialize largest as root \n",
    "    l = 2 * i + 1     # left = 2*i + 1 \n",
    "    r = 2 * i + 2     # right = 2*i + 2 \n",
    "  \n",
    "    # See if left child of root exists and is \n",
    "    # greater than root \n",
    "    if l < n and arr[i].endTime < arr[l].endTime: \n",
    "        largest = l \n",
    "  \n",
    "    # See if right child of root exists and is \n",
    "    # greater than root \n",
    "    if r < n and arr[largest].endTime < arr[r].endTime: \n",
    "        largest = r \n",
    "  \n",
    "    # Change root, if needed \n",
    "    if largest != i: \n",
    "        # swap\n",
    "        temp = arr[i]\n",
    "        arr[i] = arr[largest]\n",
    "        arr[largest] = temp\n",
    "  \n",
    "        # Heapify the root. \n",
    "        heapify(arr, n, largest) \n",
    "  \n",
    "# The main function to sort an array of given size \n",
    "def heapSort(arr): \n",
    "    n = len(arr) \n",
    "  \n",
    "    # Build a maxheap. \n",
    "    for i in range(n, -1, -1): \n",
    "        heapify(arr, n, i) \n",
    "  \n",
    "    # One by one extract elements \n",
    "    for i in range(n-1, 0, -1): \n",
    "        temp = arr[0]\n",
    "        arr[0] = arr[i]\n",
    "        arr[i] = temp\n",
    "        heapify(arr, i, 0) \n",
    "  \n",
    "# Driver code to test above \n",
    "heapSort(tasks) \n",
    "n = len(tasks) \n",
    "print (\"Sorted array is\") \n",
    "for i in range(n): \n",
    "    print (\"%d\" %(tasks[i].num+1),\" - \", \"%d\" %tasks[i].endTime)"
   ]
  },
  {
   "cell_type": "code",
   "execution_count": 60,
   "metadata": {},
   "outputs": [],
   "source": [
    "def greedByEndTime(tasks):\n",
    "    taskList = []\n",
    "    taskList.append(tasks[0])\n",
    "    for i in range(1, len(tasks), 1):\n",
    "        if tasks[i].initTime >= taskList[-1].endTime:\n",
    "            taskList.append(tasks[i])\n",
    "    \n",
    "    print(\"The number of tasks compatible by end time:\")\n",
    "    print(len(taskList))\n",
    "    for i in range(len(taskList)):\n",
    "        print(\"%d\" %(i+1), \" - \", \"%d\" %taskList[i].num)"
   ]
  },
  {
   "cell_type": "code",
   "execution_count": 61,
   "metadata": {},
   "outputs": [
    {
     "name": "stdout",
     "output_type": "stream",
     "text": [
      "The number of tasks compatible by end time:\n",
      "2\n",
      "1  -  11\n",
      "2  -  5\n"
     ]
    }
   ],
   "source": [
    "greedByEndTime(tasks)"
   ]
  },
  {
   "cell_type": "markdown",
   "metadata": {},
   "source": [
    "## By Duration"
   ]
  },
  {
   "cell_type": "code",
   "execution_count": 44,
   "metadata": {},
   "outputs": [
    {
     "name": "stdout",
     "output_type": "stream",
     "text": [
      "Sorted array is\n",
      "12  -  0\n",
      "15  -  1\n",
      "14  -  2\n",
      "16  -  3\n",
      "26  -  5\n",
      "21  -  6\n",
      "24  -  6\n",
      "6  -  8\n",
      "11  -  8\n",
      "8  -  9\n",
      "17  -  12\n",
      "9  -  12\n",
      "5  -  12\n",
      "7  -  13\n",
      "25  -  14\n",
      "19  -  15\n",
      "13  -  17\n",
      "23  -  18\n",
      "18  -  20\n",
      "1  -  20\n",
      "27  -  20\n",
      "10  -  21\n",
      "3  -  22\n",
      "28  -  24\n",
      "4  -  24\n",
      "2  -  24\n",
      "29  -  25\n",
      "22  -  26\n",
      "20  -  28\n",
      "30  -  29\n"
     ]
    }
   ],
   "source": [
    "# To heapify subtree rooted at index i. \n",
    "# n is size of heap \n",
    "def heapify(arr, n, i): \n",
    "    largest = i  # Initialize largest as root \n",
    "    l = 2 * i + 1     # left = 2*i + 1 \n",
    "    r = 2 * i + 2     # right = 2*i + 2 \n",
    "  \n",
    "    # See if left child of root exists and is \n",
    "    # greater than root \n",
    "    if l < n and arr[i].duration < arr[l].duration: \n",
    "        largest = l \n",
    "  \n",
    "    # See if right child of root exists and is \n",
    "    # greater than root \n",
    "    if r < n and arr[largest].duration < arr[r].duration: \n",
    "        largest = r \n",
    "  \n",
    "    # Change root, if needed \n",
    "    if largest != i: \n",
    "        # swap\n",
    "        temp = arr[i]\n",
    "        arr[i] = arr[largest]\n",
    "        arr[largest] = temp\n",
    "  \n",
    "        # Heapify the root. \n",
    "        heapify(arr, n, largest) \n",
    "  \n",
    "# The main function to sort an array of given size \n",
    "def heapSort(arr): \n",
    "    n = len(arr) \n",
    "  \n",
    "    # Build a maxheap. \n",
    "    for i in range(n, -1, -1): \n",
    "        heapify(arr, n, i) \n",
    "  \n",
    "    # One by one extract elements \n",
    "    for i in range(n-1, 0, -1): \n",
    "        temp = arr[0]\n",
    "        arr[0] = arr[i]\n",
    "        arr[i] = temp\n",
    "        heapify(arr, i, 0) \n",
    "  \n",
    "# Driver code to test above \n",
    "heapSort(tasks) \n",
    "n = len(tasks) \n",
    "print (\"Sorted array is\") \n",
    "for i in range(n): \n",
    "    print (\"%d\" %(tasks[i].num+1),\" - \", \"%d\" %tasks[i].duration)"
   ]
  },
  {
   "cell_type": "code",
   "execution_count": 51,
   "metadata": {},
   "outputs": [],
   "source": [
    "def greedByDuration(tasks):\n",
    "    taskList = []\n",
    "    taskList.append(tasks[0])\n",
    "    for i in range(1, len(tasks), 1):\n",
    "        if tasks[i].initTime >= taskList[-1].endTime:\n",
    "            taskList.append(tasks[i])\n",
    "    \n",
    "    print(\"The number of tasks compatible by duration:\")\n",
    "    print(len(taskList))"
   ]
  },
  {
   "cell_type": "code",
   "execution_count": 52,
   "metadata": {},
   "outputs": [
    {
     "name": "stdout",
     "output_type": "stream",
     "text": [
      "The number of tasks compatible by duration:\n",
      "2\n"
     ]
    }
   ],
   "source": [
    "greedByDuration(tasks)"
   ]
  },
  {
   "cell_type": "code",
   "execution_count": null,
   "metadata": {},
   "outputs": [],
   "source": []
  },
  {
   "cell_type": "code",
   "execution_count": null,
   "metadata": {},
   "outputs": [],
   "source": []
  }
 ],
 "metadata": {
  "kernelspec": {
   "display_name": "Python 3",
   "language": "python",
   "name": "python3"
  },
  "language_info": {
   "codemirror_mode": {
    "name": "ipython",
    "version": 3
   },
   "file_extension": ".py",
   "mimetype": "text/x-python",
   "name": "python",
   "nbconvert_exporter": "python",
   "pygments_lexer": "ipython3",
   "version": "3.5.2"
  }
 },
 "nbformat": 4,
 "nbformat_minor": 2
}
