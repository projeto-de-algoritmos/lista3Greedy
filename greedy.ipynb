{
 "cells": [
  {
   "cell_type": "code",
   "execution_count": 1,
   "metadata": {},
   "outputs": [],
   "source": [
    "import matplotlib as plt\n",
    "import numpy as np"
   ]
  },
  {
   "cell_type": "code",
   "execution_count": 2,
   "metadata": {},
   "outputs": [],
   "source": [
    "# Class for Task\n",
    "class Task():\n",
    "    def __init__(self, num):\n",
    "        self.initTime = np.random.randint(0, 101)\n",
    "        self.duration = np.random.randint(0, 30)\n",
    "        self.endTime = self.initTime + self.duration\n",
    "        self.num = num\n",
    "        \n",
    "        print(self.num+1, self.initTime, self.duration, self.endTime)"
   ]
  },
  {
   "cell_type": "code",
   "execution_count": 3,
   "metadata": {},
   "outputs": [
    {
     "name": "stdout",
     "output_type": "stream",
     "text": [
      "1 21 0 21\n",
      "2 40 8 48\n",
      "3 58 16 74\n",
      "4 39 13 52\n",
      "5 71 6 77\n",
      "6 55 28 83\n",
      "7 90 20 110\n",
      "8 12 28 40\n",
      "9 37 12 49\n",
      "10 28 10 38\n",
      "11 100 5 105\n",
      "12 67 3 70\n",
      "13 67 6 73\n",
      "14 27 11 38\n",
      "15 57 11 68\n",
      "16 69 17 86\n",
      "17 20 3 23\n",
      "18 81 16 97\n",
      "19 41 5 46\n",
      "20 31 4 35\n",
      "21 95 10 105\n",
      "22 55 13 68\n",
      "23 98 2 100\n",
      "24 84 17 101\n",
      "25 12 16 28\n",
      "26 98 4 102\n",
      "27 5 10 15\n",
      "28 0 1 1\n",
      "29 93 2 95\n",
      "30 60 11 71\n"
     ]
    }
   ],
   "source": [
    "# Number of tasks for example\n",
    "numTasks = 30\n",
    "# Empty array of tasks\n",
    "tasks = []\n",
    "\n",
    "for i in range(numTasks):\n",
    "    tasks.append(Task(i))"
   ]
  },
  {
   "cell_type": "markdown",
   "metadata": {},
   "source": [
    "# Greedy Algorithm \n",
    "\n",
    "## By initial task time\n",
    "\n"
   ]
  },
  {
   "cell_type": "code",
   "execution_count": 4,
   "metadata": {},
   "outputs": [
    {
     "name": "stdout",
     "output_type": "stream",
     "text": [
      "Sorted array is\n",
      "28  -  0\n",
      "27  -  5\n",
      "8  -  12\n",
      "25  -  12\n",
      "17  -  20\n",
      "1  -  21\n",
      "14  -  27\n",
      "10  -  28\n",
      "20  -  31\n",
      "9  -  37\n",
      "4  -  39\n",
      "2  -  40\n",
      "19  -  41\n",
      "6  -  55\n",
      "22  -  55\n",
      "15  -  57\n",
      "3  -  58\n",
      "30  -  60\n",
      "13  -  67\n",
      "12  -  67\n",
      "16  -  69\n",
      "5  -  71\n",
      "18  -  81\n",
      "24  -  84\n",
      "7  -  90\n",
      "29  -  93\n",
      "21  -  95\n",
      "26  -  98\n",
      "23  -  98\n",
      "11  -  100\n"
     ]
    }
   ],
   "source": [
    "# To heapify subtree rooted at index i. \n",
    "# n is size of heap \n",
    "def heapify(arr, n, i): \n",
    "    largest = i  # Initialize largest as root \n",
    "    l = 2 * i + 1     # left = 2*i + 1 \n",
    "    r = 2 * i + 2     # right = 2*i + 2 \n",
    "  \n",
    "    # See if left child of root exists and is \n",
    "    # greater than root \n",
    "    if l < n and arr[i].initTime < arr[l].initTime: \n",
    "        largest = l \n",
    "  \n",
    "    # See if right child of root exists and is \n",
    "    # greater than root \n",
    "    if r < n and arr[largest].initTime < arr[r].initTime: \n",
    "        largest = r \n",
    "  \n",
    "    # Change root, if needed \n",
    "    if largest != i: \n",
    "        # swap\n",
    "        temp = arr[i]\n",
    "        arr[i] = arr[largest]\n",
    "        arr[largest] = temp\n",
    "  \n",
    "        # Heapify the root. \n",
    "        heapify(arr, n, largest) \n",
    "  \n",
    "# The main function to sort an array of given size \n",
    "def heapSort(arr): \n",
    "    n = len(arr) \n",
    "  \n",
    "    # Build a maxheap. \n",
    "    for i in range(n, -1, -1): \n",
    "        heapify(arr, n, i) \n",
    "  \n",
    "    # One by one extract elements \n",
    "    for i in range(n-1, 0, -1): \n",
    "        temp = arr[0]\n",
    "        arr[0] = arr[i]\n",
    "        arr[i] = temp\n",
    "        heapify(arr, i, 0) \n",
    "  \n",
    "# Driver code to test above \n",
    "heapSort(tasks) \n",
    "n = len(tasks) \n",
    "print (\"Sorted array is\") \n",
    "for i in range(n): \n",
    "    print (\"%d\" %(tasks[i].num+1),\" - \",\"%d\" %tasks[i].initTime)"
   ]
  },
  {
   "cell_type": "code",
   "execution_count": 5,
   "metadata": {},
   "outputs": [],
   "source": [
    "def greedByInitTime(tasks):\n",
    "    taskList = []\n",
    "    taskList.append(tasks[0])\n",
    "    lastTask = taskList[0]\n",
    "    for i in range(1, len(tasks), 1):\n",
    "        if tasks[i].initTime >= lastTask.endTime:\n",
    "            taskList.append(tasks[i])\n",
    "            lastTask = tasks[i]\n",
    "    \n",
    "    print(\"The number of tasks compatible by init time:\")\n",
    "    print(len(taskList))"
   ]
  },
  {
   "cell_type": "code",
   "execution_count": 6,
   "metadata": {},
   "outputs": [
    {
     "name": "stdout",
     "output_type": "stream",
     "text": [
      "The number of tasks compatible by init time:\n",
      "7\n"
     ]
    }
   ],
   "source": [
    "greedByInitTime(tasks)"
   ]
  },
  {
   "cell_type": "markdown",
   "metadata": {},
   "source": [
    "## By Finish Time"
   ]
  },
  {
   "cell_type": "code",
   "execution_count": 7,
   "metadata": {},
   "outputs": [
    {
     "name": "stdout",
     "output_type": "stream",
     "text": [
      "Sorted array is\n",
      "28  -  1\n",
      "27  -  15\n",
      "1  -  21\n",
      "17  -  23\n",
      "25  -  28\n",
      "20  -  35\n",
      "14  -  38\n",
      "10  -  38\n",
      "8  -  40\n",
      "19  -  46\n",
      "2  -  48\n",
      "9  -  49\n",
      "4  -  52\n",
      "22  -  68\n",
      "15  -  68\n",
      "12  -  70\n",
      "30  -  71\n",
      "13  -  73\n",
      "3  -  74\n",
      "5  -  77\n",
      "6  -  83\n",
      "16  -  86\n",
      "29  -  95\n",
      "18  -  97\n",
      "23  -  100\n",
      "24  -  101\n",
      "26  -  102\n",
      "11  -  105\n",
      "21  -  105\n",
      "7  -  110\n"
     ]
    }
   ],
   "source": [
    "# To heapify subtree rooted at index i. \n",
    "# n is size of heap \n",
    "def heapify(arr, n, i): \n",
    "    largest = i  # Initialize largest as root \n",
    "    l = 2 * i + 1     # left = 2*i + 1 \n",
    "    r = 2 * i + 2     # right = 2*i + 2 \n",
    "  \n",
    "    # See if left child of root exists and is \n",
    "    # greater than root \n",
    "    if l < n and arr[i].endTime < arr[l].endTime: \n",
    "        largest = l \n",
    "  \n",
    "    # See if right child of root exists and is \n",
    "    # greater than root \n",
    "    if r < n and arr[largest].endTime < arr[r].endTime: \n",
    "        largest = r \n",
    "  \n",
    "    # Change root, if needed \n",
    "    if largest != i: \n",
    "        # swap\n",
    "        temp = arr[i]\n",
    "        arr[i] = arr[largest]\n",
    "        arr[largest] = temp\n",
    "  \n",
    "        # Heapify the root. \n",
    "        heapify(arr, n, largest) \n",
    "  \n",
    "# The main function to sort an array of given size \n",
    "def heapSort(arr): \n",
    "    n = len(arr) \n",
    "  \n",
    "    # Build a maxheap. \n",
    "    for i in range(n, -1, -1): \n",
    "        heapify(arr, n, i) \n",
    "  \n",
    "    # One by one extract elements \n",
    "    for i in range(n-1, 0, -1): \n",
    "        temp = arr[0]\n",
    "        arr[0] = arr[i]\n",
    "        arr[i] = temp\n",
    "        heapify(arr, i, 0) \n",
    "  \n",
    "# Driver code to test above \n",
    "heapSort(tasks) \n",
    "n = len(tasks) \n",
    "print (\"Sorted array is\") \n",
    "for i in range(n): \n",
    "    print (\"%d\" %(tasks[i].num+1),\" - \", \"%d\" %tasks[i].endTime)"
   ]
  },
  {
   "cell_type": "code",
   "execution_count": 8,
   "metadata": {},
   "outputs": [],
   "source": [
    "def greedByEndTime(tasks):\n",
    "    taskList = []\n",
    "    taskList.append(tasks[0])\n",
    "    lastTask = taskList[0]\n",
    "    for i in range(1, len(tasks), 1):\n",
    "        if tasks[i].initTime >= lastTask.endTime:\n",
    "            taskList.append(tasks[i])\n",
    "            lastTask = tasks[i]\n",
    "    \n",
    "    print(\"The number of tasks compatible by end time:\")\n",
    "    print(len(taskList))\n",
    "    for i in range(len(taskList)):\n",
    "        print(\"%d\" %(i+1), \" - \", \"%d\" %taskList[i].num)"
   ]
  },
  {
   "cell_type": "code",
   "execution_count": 9,
   "metadata": {},
   "outputs": [
    {
     "name": "stdout",
     "output_type": "stream",
     "text": [
      "The number of tasks compatible by end time:\n",
      "10\n",
      "1  -  27\n",
      "2  -  26\n",
      "3  -  0\n",
      "4  -  19\n",
      "5  -  18\n",
      "6  -  21\n",
      "7  -  4\n",
      "8  -  28\n",
      "9  -  22\n",
      "10  -  10\n"
     ]
    }
   ],
   "source": [
    "greedByEndTime(tasks)"
   ]
  },
  {
   "cell_type": "markdown",
   "metadata": {},
   "source": [
    "## By Duration"
   ]
  },
  {
   "cell_type": "code",
   "execution_count": 10,
   "metadata": {},
   "outputs": [
    {
     "name": "stdout",
     "output_type": "stream",
     "text": [
      "Sorted array is\n",
      "1  -  0\n",
      "28  -  1\n",
      "29  -  2\n",
      "23  -  2\n",
      "17  -  3\n",
      "12  -  3\n",
      "26  -  4\n",
      "20  -  4\n",
      "19  -  5\n",
      "11  -  5\n",
      "5  -  6\n",
      "13  -  6\n",
      "2  -  8\n",
      "21  -  10\n",
      "27  -  10\n",
      "10  -  10\n",
      "14  -  11\n",
      "15  -  11\n",
      "30  -  11\n",
      "9  -  12\n",
      "22  -  13\n",
      "4  -  13\n",
      "18  -  16\n",
      "25  -  16\n",
      "3  -  16\n",
      "24  -  17\n",
      "16  -  17\n",
      "7  -  20\n",
      "6  -  28\n",
      "8  -  28\n"
     ]
    }
   ],
   "source": [
    "# To heapify subtree rooted at index i. \n",
    "# n is size of heap \n",
    "def heapify(arr, n, i): \n",
    "    largest = i  # Initialize largest as root \n",
    "    l = 2 * i + 1     # left = 2*i + 1 \n",
    "    r = 2 * i + 2     # right = 2*i + 2 \n",
    "  \n",
    "    # See if left child of root exists and is \n",
    "    # greater than root \n",
    "    if l < n and arr[i].duration < arr[l].duration: \n",
    "        largest = l \n",
    "  \n",
    "    # See if right child of root exists and is \n",
    "    # greater than root \n",
    "    if r < n and arr[largest].duration < arr[r].duration: \n",
    "        largest = r \n",
    "  \n",
    "    # Change root, if needed \n",
    "    if largest != i: \n",
    "        # swap\n",
    "        temp = arr[i]\n",
    "        arr[i] = arr[largest]\n",
    "        arr[largest] = temp\n",
    "  \n",
    "        # Heapify the root. \n",
    "        heapify(arr, n, largest) \n",
    "  \n",
    "# The main function to sort an array of given size \n",
    "def heapSort(arr): \n",
    "    n = len(arr) \n",
    "  \n",
    "    # Build a maxheap. \n",
    "    for i in range(n, -1, -1): \n",
    "        heapify(arr, n, i) \n",
    "  \n",
    "    # One by one extract elements \n",
    "    for i in range(n-1, 0, -1): \n",
    "        temp = arr[0]\n",
    "        arr[0] = arr[i]\n",
    "        arr[i] = temp\n",
    "        heapify(arr, i, 0) \n",
    "  \n",
    "# Driver code to test above \n",
    "heapSort(tasks) \n",
    "n = len(tasks) \n",
    "print (\"Sorted array is\") \n",
    "for i in range(n): \n",
    "    print (\"%d\" %(tasks[i].num+1),\" - \", \"%d\" %tasks[i].duration)"
   ]
  },
  {
   "cell_type": "code",
   "execution_count": 11,
   "metadata": {},
   "outputs": [],
   "source": [
    "def greedByDuration(tasks):\n",
    "    taskList = []\n",
    "    taskList.append(tasks[0])\n",
    "    lastTask = taskList[0]\n",
    "    for i in range(1, len(tasks), 1):\n",
    "        if tasks[i].initTime >= lastTask.endTime:\n",
    "            taskList.append(tasks[i])\n",
    "            lastTask = tasks[i]\n",
    "    \n",
    "    print(\"The number of tasks compatible by duration:\")\n",
    "    print(len(taskList))"
   ]
  },
  {
   "cell_type": "code",
   "execution_count": 12,
   "metadata": {},
   "outputs": [
    {
     "name": "stdout",
     "output_type": "stream",
     "text": [
      "The number of tasks compatible by duration:\n",
      "4\n"
     ]
    }
   ],
   "source": [
    "greedByDuration(tasks)"
   ]
  },
  {
   "cell_type": "code",
   "execution_count": null,
   "metadata": {},
   "outputs": [],
   "source": []
  },
  {
   "cell_type": "code",
   "execution_count": null,
   "metadata": {},
   "outputs": [],
   "source": []
  }
 ],
 "metadata": {
  "kernelspec": {
   "display_name": "Python 3",
   "language": "python",
   "name": "python3"
  },
  "language_info": {
   "codemirror_mode": {
    "name": "ipython",
    "version": 3
   },
   "file_extension": ".py",
   "mimetype": "text/x-python",
   "name": "python",
   "nbconvert_exporter": "python",
   "pygments_lexer": "ipython3",
   "version": "3.7.3"
  }
 },
 "nbformat": 4,
 "nbformat_minor": 2
}
