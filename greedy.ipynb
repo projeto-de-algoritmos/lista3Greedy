{
 "cells": [
  {
   "cell_type": "code",
   "execution_count": 227,
   "metadata": {},
   "outputs": [],
   "source": [
    "import matplotlib.pyplot as plt\n",
    "import numpy as np"
   ]
  },
  {
   "cell_type": "code",
   "execution_count": 228,
   "metadata": {},
   "outputs": [],
   "source": [
    "MAX_INIT_TIME = 20\n",
    "MAX_DURATION = 10"
   ]
  },
  {
   "cell_type": "code",
   "execution_count": 229,
   "metadata": {},
   "outputs": [],
   "source": [
    "# Class for Task\n",
    "class Task():\n",
    "    def __init__(self, num):\n",
    "        self.initTime = np.random.randint(0, MAX_INIT_TIME)\n",
    "        self.duration = np.random.randint(0, MAX_DURATION)\n",
    "        self.endTime = self.initTime + self.duration\n",
    "        self.num = num\n",
    "        \n",
    "        print(self.num+1, self.initTime, self.duration, self.endTime)"
   ]
  },
  {
   "cell_type": "code",
   "execution_count": 230,
   "metadata": {
    "scrolled": true
   },
   "outputs": [
    {
     "name": "stdout",
     "output_type": "stream",
     "text": [
      "1 5 5 10\n",
      "2 15 9 24\n",
      "3 17 9 26\n",
      "4 6 0 6\n",
      "5 14 7 21\n",
      "6 9 8 17\n",
      "7 9 9 18\n",
      "8 7 7 14\n",
      "9 1 7 8\n",
      "10 7 6 13\n"
     ]
    }
   ],
   "source": [
    "# Number of tasks for example\n",
    "numTasks = 10\n",
    "# Empty array of tasks\n",
    "tasks = []\n",
    "\n",
    "for i in range(numTasks):\n",
    "    tasks.append(Task(i))"
   ]
  },
  {
   "cell_type": "code",
   "execution_count": 231,
   "metadata": {},
   "outputs": [
    {
     "data": {
      "image/png": "[encoded data removed]",
      "text/plain": [
       "<Figure size 640x480 with 1 Axes>"
      ]
     },
     "metadata": {},
     "output_type": "display_data"
    }
   ],
   "source": [
    "def plotGraph(tasks_arr):\n",
    "    fig, ax = plt.subplots()\n",
    "\n",
    "    n_task = []\n",
    "    duration = []\n",
    "    initTimes = []\n",
    "    for task in tasks_arr:\n",
    "        n_task.append(str(task.num + 1))\n",
    "        duration.append(task.duration)\n",
    "        initTimes.append(task.initTime)\n",
    "\n",
    "    ax.barh(n_task, duration, left=initTimes, color='green', zorder=3)\n",
    "    ax.grid(which='both', zorder=0)\n",
    "    ax.set_yticks(n_task)\n",
    "    ax.set_yticklabels(n_task)\n",
    "    ax.set_xticks(np.arange(0, MAX_INIT_TIME + MAX_DURATION))\n",
    "    ax.invert_yaxis()  # labels read top-to-bottom\n",
    "    ax.set_ylabel('Task')\n",
    "    ax.set_xlabel('Time')\n",
    "    ax.set_title('TASKS')\n",
    "\n",
    "    plt.show()\n",
    "\n",
    "plotGraph(tasks)"
   ]
  },
  {
   "cell_type": "markdown",
   "metadata": {},
   "source": [
    "# Greedy Algorithm \n",
    "\n",
    "## By initial task time\n",
    "\n"
   ]
  },
  {
   "cell_type": "code",
   "execution_count": 232,
   "metadata": {
    "scrolled": false
   },
   "outputs": [
    {
     "name": "stdout",
     "output_type": "stream",
     "text": [
      "Sorted array is\n",
      "9  -  1\n",
      "1  -  5\n",
      "4  -  6\n",
      "10  -  7\n",
      "8  -  7\n",
      "7  -  9\n",
      "6  -  9\n",
      "5  -  14\n",
      "2  -  15\n",
      "3  -  17\n"
     ]
    }
   ],
   "source": [
    "# To heapify subtree rooted at index i. \n",
    "# n is size of heap \n",
    "def heapify(arr, n, i): \n",
    "    largest = i  # Initialize largest as root \n",
    "    l = 2 * i + 1     # left = 2*i + 1 \n",
    "    r = 2 * i + 2     # right = 2*i + 2 \n",
    "  \n",
    "    # See if left child of root exists and is \n",
    "    # greater than root \n",
    "    if l < n and arr[i].initTime < arr[l].initTime: \n",
    "        largest = l \n",
    "  \n",
    "    # See if right child of root exists and is \n",
    "    # greater than root \n",
    "    if r < n and arr[largest].initTime < arr[r].initTime: \n",
    "        largest = r \n",
    "  \n",
    "    # Change root, if needed \n",
    "    if largest != i: \n",
    "        # swap\n",
    "        temp = arr[i]\n",
    "        arr[i] = arr[largest]\n",
    "        arr[largest] = temp\n",
    "  \n",
    "        # Heapify the root. \n",
    "        heapify(arr, n, largest) \n",
    "  \n",
    "# The main function to sort an array of given size \n",
    "def heapSort(arr): \n",
    "    n = len(arr) \n",
    "  \n",
    "    # Build a maxheap. \n",
    "    for i in range(n, -1, -1): \n",
    "        heapify(arr, n, i) \n",
    "  \n",
    "    # One by one extract elements \n",
    "    for i in range(n-1, 0, -1): \n",
    "        temp = arr[0]\n",
    "        arr[0] = arr[i]\n",
    "        arr[i] = temp\n",
    "        heapify(arr, i, 0) \n",
    "  \n",
    "# Driver code to test above \n",
    "heapSort(tasks) \n",
    "n = len(tasks) \n",
    "print (\"Sorted array is\") \n",
    "for i in range(n): \n",
    "    print (\"%d\" %(tasks[i].num+1),\" - \",\"%d\" %tasks[i].initTime)"
   ]
  },
  {
   "cell_type": "code",
   "execution_count": 233,
   "metadata": {},
   "outputs": [],
   "source": [
    "def greedByInitTime(tasks):\n",
    "    taskList = []\n",
    "    taskList.append(tasks[0])\n",
    "    lastTask = taskList[0]\n",
    "    for i in range(1, len(tasks), 1):\n",
    "        if tasks[i].initTime >= lastTask.endTime:\n",
    "            taskList.append(tasks[i])\n",
    "            lastTask = tasks[i]\n",
    "    \n",
    "    print(\"The number of tasks compatible by init time:\")\n",
    "    print(len(taskList))\n",
    "    plotGraph(taskList)"
   ]
  },
  {
   "cell_type": "code",
   "execution_count": 234,
   "metadata": {
    "scrolled": true
   },
   "outputs": [
    {
     "name": "stdout",
     "output_type": "stream",
     "text": [
      "The number of tasks compatible by init time:\n",
      "2\n"
     ]
    },
    {
     "data": {
      "image/png": "[encoded data removed]",
      "text/plain": [
       "<Figure size 640x480 with 1 Axes>"
      ]
     },
     "metadata": {},
     "output_type": "display_data"
    }
   ],
   "source": [
    "greedByInitTime(tasks)"
   ]
  },
  {
   "cell_type": "markdown",
   "metadata": {},
   "source": [
    "## By Finish Time"
   ]
  },
  {
   "cell_type": "code",
   "execution_count": 235,
   "metadata": {},
   "outputs": [
    {
     "name": "stdout",
     "output_type": "stream",
     "text": [
      "Sorted array is\n",
      "4  -  6\n",
      "9  -  8\n",
      "1  -  10\n",
      "10  -  13\n",
      "8  -  14\n",
      "6  -  17\n",
      "7  -  18\n",
      "5  -  21\n",
      "2  -  24\n",
      "3  -  26\n"
     ]
    }
   ],
   "source": [
    "# To heapify subtree rooted at index i. \n",
    "# n is size of heap \n",
    "def heapify(arr, n, i): \n",
    "    largest = i  # Initialize largest as root \n",
    "    l = 2 * i + 1     # left = 2*i + 1 \n",
    "    r = 2 * i + 2     # right = 2*i + 2 \n",
    "  \n",
    "    # See if left child of root exists and is \n",
    "    # greater than root \n",
    "    if l < n and arr[i].endTime < arr[l].endTime: \n",
    "        largest = l \n",
    "  \n",
    "    # See if right child of root exists and is \n",
    "    # greater than root \n",
    "    if r < n and arr[largest].endTime < arr[r].endTime: \n",
    "        largest = r \n",
    "  \n",
    "    # Change root, if needed \n",
    "    if largest != i: \n",
    "        # swap\n",
    "        temp = arr[i]\n",
    "        arr[i] = arr[largest]\n",
    "        arr[largest] = temp\n",
    "  \n",
    "        # Heapify the root. \n",
    "        heapify(arr, n, largest) \n",
    "  \n",
    "# The main function to sort an array of given size \n",
    "def heapSort(arr): \n",
    "    n = len(arr) \n",
    "  \n",
    "    # Build a maxheap. \n",
    "    for i in range(n, -1, -1): \n",
    "        heapify(arr, n, i) \n",
    "  \n",
    "    # One by one extract elements \n",
    "    for i in range(n-1, 0, -1): \n",
    "        temp = arr[0]\n",
    "        arr[0] = arr[i]\n",
    "        arr[i] = temp\n",
    "        heapify(arr, i, 0) \n",
    "  \n",
    "# Driver code to test above \n",
    "heapSort(tasks) \n",
    "n = len(tasks) \n",
    "print (\"Sorted array is\") \n",
    "for i in range(n): \n",
    "    print (\"%d\" %(tasks[i].num+1),\" - \", \"%d\" %tasks[i].endTime)"
   ]
  },
  {
   "cell_type": "code",
   "execution_count": 240,
   "metadata": {},
   "outputs": [],
   "source": [
    "def greedByEndTime(tasks):\n",
    "    taskList = []\n",
    "    taskList.append(tasks[0])\n",
    "    lastTask = taskList[0]\n",
    "    for i in range(1, len(tasks), 1):\n",
    "        if tasks[i].initTime >= lastTask.endTime:\n",
    "            taskList.append(tasks[i])\n",
    "            lastTask = tasks[i]\n",
    "    \n",
    "    print(\"The number of tasks compatible by end time:\")\n",
    "    print(len(taskList))\n",
    "    for i in range(len(taskList)):\n",
    "        print(\"%d\" %(i+1), \" - \", \"%d\" %(taskList[i].num+1))\n",
    "    plotGraph(taskList)"
   ]
  },
  {
   "cell_type": "code",
   "execution_count": 241,
   "metadata": {},
   "outputs": [
    {
     "name": "stdout",
     "output_type": "stream",
     "text": [
      "The number of tasks compatible by end time:\n",
      "3\n",
      "1  -  4\n",
      "2  -  10\n",
      "3  -  5\n"
     ]
    },
    {
     "data": {
      "image/png": "[encoded data removed]",
      "text/plain": [
       "<Figure size 640x480 with 1 Axes>"
      ]
     },
     "metadata": {},
     "output_type": "display_data"
    }
   ],
   "source": [
    "greedByEndTime(tasks)"
   ]
  },
  {
   "cell_type": "markdown",
   "metadata": {},
   "source": [
    "## By Duration"
   ]
  },
  {
   "cell_type": "code",
   "execution_count": 242,
   "metadata": {},
   "outputs": [
    {
     "name": "stdout",
     "output_type": "stream",
     "text": [
      "Sorted array is\n",
      "4  -  0\n",
      "1  -  5\n",
      "10  -  6\n",
      "8  -  7\n",
      "5  -  7\n",
      "9  -  7\n",
      "6  -  8\n",
      "7  -  9\n",
      "3  -  9\n",
      "2  -  9\n"
     ]
    }
   ],
   "source": [
    "# To heapify subtree rooted at index i. \n",
    "# n is size of heap \n",
    "def heapify(arr, n, i): \n",
    "    largest = i  # Initialize largest as root \n",
    "    l = 2 * i + 1     # left = 2*i + 1 \n",
    "    r = 2 * i + 2     # right = 2*i + 2 \n",
    "  \n",
    "    # See if left child of root exists and is \n",
    "    # greater than root \n",
    "    if l < n and arr[i].duration < arr[l].duration: \n",
    "        largest = l \n",
    "  \n",
    "    # See if right child of root exists and is \n",
    "    # greater than root \n",
    "    if r < n and arr[largest].duration < arr[r].duration: \n",
    "        largest = r \n",
    "  \n",
    "    # Change root, if needed \n",
    "    if largest != i: \n",
    "        # swap\n",
    "        temp = arr[i]\n",
    "        arr[i] = arr[largest]\n",
    "        arr[largest] = temp\n",
    "  \n",
    "        # Heapify the root. \n",
    "        heapify(arr, n, largest) \n",
    "  \n",
    "# The main function to sort an array of given size \n",
    "def heapSort(arr): \n",
    "    n = len(arr) \n",
    "  \n",
    "    # Build a maxheap. \n",
    "    for i in range(n, -1, -1): \n",
    "        heapify(arr, n, i) \n",
    "  \n",
    "    # One by one extract elements \n",
    "    for i in range(n-1, 0, -1): \n",
    "        temp = arr[0]\n",
    "        arr[0] = arr[i]\n",
    "        arr[i] = temp\n",
    "        heapify(arr, i, 0) \n",
    "  \n",
    "# Driver code to test above \n",
    "heapSort(tasks) \n",
    "n = len(tasks) \n",
    "print (\"Sorted array is\") \n",
    "for i in range(n): \n",
    "    print (\"%d\" %(tasks[i].num+1),\" - \", \"%d\" %tasks[i].duration)"
   ]
  },
  {
   "cell_type": "code",
   "execution_count": 243,
   "metadata": {},
   "outputs": [],
   "source": [
    "def greedByDuration(tasks):\n",
    "    taskList = []\n",
    "    taskList.append(tasks[0])\n",
    "    lastTask = taskList[0]\n",
    "    for i in range(1, len(tasks), 1):\n",
    "        if tasks[i].initTime >= lastTask.endTime:\n",
    "            taskList.append(tasks[i])\n",
    "            lastTask = tasks[i]\n",
    "    \n",
    "    print(\"The number of tasks compatible by duration:\")\n",
    "    print(len(taskList))\n",
    "    plotGraph(taskList)"
   ]
  },
  {
   "cell_type": "code",
   "execution_count": 244,
   "metadata": {},
   "outputs": [
    {
     "name": "stdout",
     "output_type": "stream",
     "text": [
      "The number of tasks compatible by duration:\n",
      "3\n"
     ]
    },
    {
     "data": {
      "image/png": "[encoded data removed]",
      "text/plain": [
       "<Figure size 640x480 with 1 Axes>"
      ]
     },
     "metadata": {},
     "output_type": "display_data"
    }
   ],
   "source": [
    "greedByDuration(tasks)"
   ]
  },
  {
   "cell_type": "code",
   "execution_count": null,
   "metadata": {},
   "outputs": [],
   "source": []
  }
 ],
 "metadata": {
  "kernelspec": {
   "display_name": "Python 3",
   "language": "python",
   "name": "python3"
  },
  "language_info": {
   "codemirror_mode": {
    "name": "ipython",
    "version": 3
   },
   "file_extension": ".py",
   "mimetype": "text/x-python",
   "name": "python",
   "nbconvert_exporter": "python",
   "pygments_lexer": "ipython3",
   "version": "3.7.3"
  }
 },
 "nbformat": 4,
 "nbformat_minor": 2
}
